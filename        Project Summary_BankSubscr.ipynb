{
 "cells": [
  {
   "cell_type": "markdown",
   "id": "df27550e-f36a-48ff-b81f-71a82cda2c8b",
   "metadata": {},
   "source": [
    "# Project Summary: Client Subscribed to a Term Deposit"
   ]
  },
  {
   "cell_type": "markdown",
   "id": "4ff536a6-19c3-47ca-8bad-31c566ad7d17",
   "metadata": {},
   "source": [
    "## Introduction"
   ]
  },
  {
   "cell_type": "markdown",
   "id": "bef6c6a3-835a-4b6b-928f-c600e291d03f",
   "metadata": {},
   "source": [
    "#### This project explores a real-world marketing dataset from a Bank, aiming to understand the factors that influence whether a client subscribes to a term deposit. The dataset includes demographic details, contact history, campaign performance, and economic indicators. Through data cleaning, visualization, and statistical analysis, we uncover patterns that can guide future marketing strategies and predictive modeling."
   ]
  },
  {
   "cell_type": "markdown",
   "id": "9a36a7f0-05ca-4aa8-99cc-58d4f6086cc9",
   "metadata": {},
   "source": [
    "## What We Did"
   ]
  },
  {
   "cell_type": "markdown",
   "id": "c0e02210-0f0a-4146-8590-09d6954eda07",
   "metadata": {},
   "source": [
    "#### Loaded and cleaned the bankmarketing.csv dataset, handling 'unknown' values and ensuring consistency.\n",
    "\n",
    "#### Performed exploratory data analysis (EDA) using boxplots, countplots, pointplots, and histograms to uncover relationships between features and the target variable y.\n",
    "\n",
    "#### Calculated and visualized summary statistics, including skewness, kurtosis, and distribution shapes for numerical features.\n",
    "\n",
    "#### Created correlation heatmaps to identify relationships among numeric variables.\n",
    "\n",
    "#### Annotated plots with medians, outlier counts, and percentages to enhance interpretability.\n",
    "\n",
    "#### Drew insights from key features such as age, job, duration, month, and previous."
   ]
  },
  {
   "cell_type": "markdown",
   "id": "4153c342-7247-48b1-9c60-b96588553991",
   "metadata": {},
   "source": [
    "## What We Learned"
   ]
  },
  {
   "cell_type": "markdown",
   "id": "17c483b8-36da-4ae7-8e55-fd51676ecdc1",
   "metadata": {},
   "source": [
    "#### Call duration is one of the strongest predictors of subscription—longer calls correlate with higher conversion.\n",
    "\n",
    "#### Occupation plays a significant role: clients who are retired, students, or entrepreneurs show higher subscription rates.\n",
    "\n",
    "#### Month of contact affects campaign success, with higher subscription ratios in March, September, and December.\n",
    "\n",
    "#### Repeated contact history (via previous) improves subscription likelihood, especially around 5–6 prior contacts.\n",
    "\n",
    "#### Age distribution shows subtle differences, with slightly older clients more likely to subscribe.\n",
    "\n",
    "#### The dataset is highly imbalanced, with only ~11% of clients subscribing, which is crucial for modeling considerations."
   ]
  },
  {
   "cell_type": "markdown",
   "id": "3901107e-3c91-4b14-a01a-ce4281ef30c3",
   "metadata": {},
   "source": [
    "# Conclusion"
   ]
  },
  {
   "cell_type": "markdown",
   "id": "07d7be59-aac9-4d40-9a0f-2343c25f5fe9",
   "metadata": {},
   "source": [
    "### This analysis provided a comprehensive understanding of the behavioral and contextual factors influencing term deposit subscriptions. By identifying high-impact features and visualizing their relationships with the target variable, we laid the groundwork for effective segmentation and predictive modeling. The project demonstrates the value of thorough EDA, thoughtful visualization, and data-driven storytelling in guiding strategic decisions."
   ]
  }
 ],
 "metadata": {
  "kernelspec": {
   "display_name": "Python 3 (ipykernel)",
   "language": "python",
   "name": "python3"
  },
  "language_info": {
   "codemirror_mode": {
    "name": "ipython",
    "version": 3
   },
   "file_extension": ".py",
   "mimetype": "text/x-python",
   "name": "python",
   "nbconvert_exporter": "python",
   "pygments_lexer": "ipython3",
   "version": "3.13.5"
  }
 },
 "nbformat": 4,
 "nbformat_minor": 5
}
